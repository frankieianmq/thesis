{
  "nbformat": 4,
  "nbformat_minor": 0,
  "metadata": {
    "colab": {
      "name": "FitDist.ipynb",
      "provenance": [],
      "collapsed_sections": [],
      "machine_shape": "hm"
    },
    "kernelspec": {
      "name": "python3",
      "display_name": "Python 3"
    }
  },
  "cells": [
    {
      "cell_type": "code",
      "metadata": {
        "id": "E3RqZGTxdVX4",
        "colab_type": "code",
        "outputId": "13a64bc6-ff0a-4f5a-e319-e0922ab964c4",
        "colab": {
          "base_uri": "https://localhost:8080/",
          "height": 34
        }
      },
      "source": [
        "#Mount google drive to use files\n",
        "from google.colab import drive\n",
        "drive.mount('/content/gdrive')"
      ],
      "execution_count": 0,
      "outputs": [
        {
          "output_type": "stream",
          "text": [
            "Drive already mounted at /content/gdrive; to attempt to forcibly remount, call drive.mount(\"/content/gdrive\", force_remount=True).\n"
          ],
          "name": "stdout"
        }
      ]
    },
    {
      "cell_type": "code",
      "metadata": {
        "id": "7nktv9Wpdg82",
        "colab_type": "code",
        "outputId": "d8c49f32-33e3-43ee-d24f-8527e742950c",
        "colab": {
          "base_uri": "https://localhost:8080/",
          "height": 51
        }
      },
      "source": [
        "# Move to git repository file\n",
        "%cd gdrive/My Drive/Thesis-Colab/thesis\n"
      ],
      "execution_count": 0,
      "outputs": [
        {
          "output_type": "stream",
          "text": [
            "[Errno 2] No such file or directory: 'gdrive/My Drive/Thesis-Colab/thesis'\n",
            "/content/gdrive/My Drive/Thesis-Colab\n"
          ],
          "name": "stdout"
        }
      ]
    },
    {
      "cell_type": "code",
      "metadata": {
        "id": "28ZkWKr5GDdZ",
        "colab_type": "code",
        "outputId": "a8d56d84-8da2-4de3-d6d4-253b20d0d69f",
        "colab": {
          "base_uri": "https://localhost:8080/",
          "height": 51
        }
      },
      "source": [
        "# Check if git is updated\n",
        "!git pull"
      ],
      "execution_count": 0,
      "outputs": [
        {
          "output_type": "stream",
          "text": [
            "fatal: not a git repository (or any parent up to mount point /content)\n",
            "Stopping at filesystem boundary (GIT_DISCOVERY_ACROSS_FILESYSTEM not set).\n"
          ],
          "name": "stdout"
        }
      ]
    },
    {
      "cell_type": "code",
      "metadata": {
        "id": "0DBOKAB-bnrh",
        "colab_type": "code",
        "outputId": "944ffff2-6ac0-4ec0-a4de-fd2fe50430e8",
        "colab": {
          "base_uri": "https://localhost:8080/",
          "height": 34
        }
      },
      "source": [
        "! ls"
      ],
      "execution_count": 0,
      "outputs": [
        {
          "output_type": "stream",
          "text": [
            " thesis  'Workload Logs'\n"
          ],
          "name": "stdout"
        }
      ]
    },
    {
      "cell_type": "code",
      "metadata": {
        "id": "fFx-e4bPUJga",
        "colab_type": "code",
        "colab": {}
      },
      "source": [
        "import sys\n",
        "sys.path.append('/content/gdrive/My Drive/Thesis-Colab/thesis')"
      ],
      "execution_count": 0,
      "outputs": []
    },
    {
      "cell_type": "code",
      "metadata": {
        "id": "e52nCTeybkAd",
        "colab_type": "code",
        "colab": {}
      },
      "source": [
        "import matplotlib.pyplot as plt\n",
        "import matplotlib.mlab as mlab\n",
        "import scipy\n",
        "import pandas as pd\n",
        "from parse_logs import parseLog\n",
        "from analyseLogs import parseLogInfo, extractMultiLog, switch_day\n",
        "from pathlib import Path\n",
        "from datetime import datetime\n",
        "import numpy as np\n",
        "import scipy.stats as sts\n",
        "from google.colab import files\n",
        "from pytz import timezone\n",
        "from collections import Counter\n",
        "\n"
      ],
      "execution_count": 0,
      "outputs": []
    },
    {
      "cell_type": "code",
      "metadata": {
        "id": "gHxPkH4YhLe9",
        "colab_type": "code",
        "outputId": "59e83ace-cdde-469f-f945-84bd3693fe41",
        "colab": {
          "base_uri": "https://localhost:8080/",
          "height": 34
        }
      },
      "source": [
        "%cd -"
      ],
      "execution_count": 0,
      "outputs": [
        {
          "output_type": "stream",
          "text": [
            "/content\n"
          ],
          "name": "stdout"
        }
      ]
    },
    {
      "cell_type": "code",
      "metadata": {
        "id": "oI5YEbTJhVcH",
        "colab_type": "code",
        "outputId": "45cffcdc-7e59-4e9b-fd08-8fd7cf20fbd3",
        "colab": {
          "base_uri": "https://localhost:8080/",
          "height": 34
        }
      },
      "source": [
        "%cd gdrive/My Drive/Thesis-Colab/\n"
      ],
      "execution_count": 0,
      "outputs": [
        {
          "output_type": "stream",
          "text": [
            "/content/gdrive/My Drive/Thesis-Colab\n"
          ],
          "name": "stdout"
        }
      ]
    },
    {
      "cell_type": "code",
      "metadata": {
        "id": "v0-0h7AvfakH",
        "colab_type": "code",
        "colab": {}
      },
      "source": [
        "folder = 'Workload Logs'"
      ],
      "execution_count": 0,
      "outputs": []
    },
    {
      "cell_type": "code",
      "metadata": {
        "id": "KgsTvcvgIaM0",
        "colab_type": "code",
        "colab": {}
      },
      "source": [
        "files = ['Workload Logs/RICC-2010-2.swf',\n",
        " 'Workload Logs/METACENTRUM-2009-2.swf',\n",
        " 'Workload Logs/PIK-IPLEX-2009-1.swf',\n",
        " 'Workload Logs/HPC2N-2002-2.2-cln.swf']"
      ],
      "execution_count": 0,
      "outputs": []
    },
    {
      "cell_type": "code",
      "metadata": {
        "id": "2c6JrTapnCpZ",
        "colab_type": "code",
        "colab": {}
      },
      "source": [
        "files = ['Workload Logs/RICC-2010-2.swf',\n",
        " 'Workload Logs/HPC2N-2002-2.2-cln.swf']"
      ],
      "execution_count": 0,
      "outputs": []
    },
    {
      "cell_type": "code",
      "metadata": {
        "id": "ojSsjG0DhIa9",
        "colab_type": "code",
        "colab": {}
      },
      "source": [
        "def pickUtil(x):\n",
        "  if x == 0:\n",
        "    # Low Util\n",
        "\n",
        "    files = ['Workload Logs/DAS2-fs0-2003-1.swf',\n",
        "    'Workload Logs/PIK-IPLEX-2009-1.swf',\n",
        "    'Workload Logs/LPC-EGEE-2004-1.2-cln.swf']\n",
        "\n",
        "  if x == 1:\n",
        "\n",
        "    # Med Util \n",
        "\n",
        "    files = ['Workload Logs/UniLu-Gaia-2014-2.swf',\n",
        "    'Workload Logs/Sandia-Ross-2001-1.1-cln.swf',\n",
        "    'Workload Logs/KIT-FH2-2016-1.swf']\n",
        "\n",
        "  if x == 2:\n",
        "\n",
        "    #High Util\n",
        "\n",
        "    files = ['Workload Logs/SHARCNET-Whale-2005-2.swf',\n",
        "    'Workload Logs/RICC-2010-2.swf',\n",
        "    'Workload Logs/HPC2N-2002-2.2-cln.swf']\n",
        "\n",
        "  return files\n",
        "\n",
        "#files = pickUtil(0)"
      ],
      "execution_count": 0,
      "outputs": []
    },
    {
      "cell_type": "code",
      "metadata": {
        "id": "bPcTevfph3Vr",
        "colab_type": "code",
        "colab": {}
      },
      "source": [
        "def pickCPU(x):\n",
        "\n",
        "  if x == 0:\n",
        "# Low CPU\n",
        "#'Workload Logs/DAS2-fs0-2003-1.swf',\n",
        "    files = [\n",
        "    'Workload Logs/CTC-SP2-1995-2.swf',\n",
        "    'Workload Logs/HPC2N-2002-2.2-cln.swf']\n",
        "\n",
        "  if x == 1:\n",
        "\n",
        " # Med CPU \n",
        "\n",
        "    files = ['Workload Logs/LANL-CM5-1994-4.1-cln.swf',\n",
        "    'Workload Logs/Sandia-Ross-2001-1.1-cln.swf',\n",
        "    'Workload Logs/UniLu-Gaia-2014-2.swf']\n",
        "\n",
        "  if x == 2:\n",
        "\n",
        "    #High CPU\n",
        "\n",
        "    files = ['Workload Logs/SHARCNET-Whale-2005-2.swf',\n",
        "    'Workload Logs/PIK-IPLEX-2009-1.swf',\n",
        "    'Workload Logs/LANL-O2K-1999-2.swf']\n",
        "\n",
        "  return files\n",
        "\n",
        "#files = pickCPU(0)"
      ],
      "execution_count": 0,
      "outputs": []
    },
    {
      "cell_type": "code",
      "metadata": {
        "id": "fyi1sALgfasd",
        "colab_type": "code",
        "colab": {}
      },
      "source": [
        "allLogs = []\n",
        "for x in files:\n",
        "  allLogs.append(parseLog([x]))\n"
      ],
      "execution_count": 0,
      "outputs": []
    },
    {
      "cell_type": "code",
      "metadata": {
        "id": "BHyq3H0OrGaP",
        "colab_type": "code",
        "outputId": "39f060c4-4cb9-4d33-e6da-bd69a3086abd",
        "colab": {
          "base_uri": "https://localhost:8080/",
          "height": 105
        }
      },
      "source": [
        "from dateutil import parser\n",
        "startTime = parseLogInfo(files, \"UnixStartTime:\")\n",
        "timeZone = parseLogInfo(files, \"TimeZoneString:\")\n",
        "endTime = parseLogInfo(files, \"EndTime:\")\n",
        "endTime = [(' '.join(x)) for x in endTime]\n",
        "endTime = [parser.parse(endTime[x]) for x in range(len(endTime))]\n",
        "diff = [(endTime[x] - datetime.fromtimestamp(int(startTime[x][0]))).days for x in range(len(endTime))]"
      ],
      "execution_count": 0,
      "outputs": [
        {
          "output_type": "stream",
          "text": [
            "/usr/local/lib/python3.6/dist-packages/dateutil/parser/_parser.py:1218: UnknownTimezoneWarning: tzname JST identified but not understood.  Pass `tzinfos` argument in order to correctly return a timezone-aware datetime.  In a future version, this will raise an exception.\n",
            "  category=UnknownTimezoneWarning)\n",
            "/usr/local/lib/python3.6/dist-packages/dateutil/parser/_parser.py:1218: UnknownTimezoneWarning: tzname CET identified but not understood.  Pass `tzinfos` argument in order to correctly return a timezone-aware datetime.  In a future version, this will raise an exception.\n",
            "  category=UnknownTimezoneWarning)\n"
          ],
          "name": "stderr"
        }
      ]
    },
    {
      "cell_type": "code",
      "metadata": {
        "id": "E-TU8-pWrwnz",
        "colab_type": "code",
        "colab": {}
      },
      "source": [
        "def extractArrivalTime(log, variable):\n",
        "    arrivalTime = []\n",
        "    logIndex = 0\n",
        "\n",
        "    for x in log:\n",
        "        store = []\n",
        "        for y in x:\n",
        "            for z in y:\n",
        "                time = int(z[1]) + int(startTime[logIndex][0])\n",
        "                spec = datetime.fromtimestamp(time, tz=timezone(timeZone[logIndex][0]))\n",
        "                if variable == 1:\n",
        "                    store.append(spec.hour)\n",
        "                else:\n",
        "                    store.append(switch_day(spec.strftime(\"%A\")))\n",
        "        logIndex += 1\n",
        "        arrivalTime.append(store)\n",
        "    return arrivalTime"
      ],
      "execution_count": 0,
      "outputs": []
    },
    {
      "cell_type": "code",
      "metadata": {
        "id": "6rug9zJXOzJu",
        "colab_type": "code",
        "colab": {}
      },
      "source": [
        "def extractMonth(log, variable, month):\n",
        "    extracted = []\n",
        "    logIndex = 0\n",
        "    for x in log:\n",
        "        store = []\n",
        "        for y in x:\n",
        "            for z in y:\n",
        "                time = int(z[1]) + int(startTime[logIndex][0])\n",
        "                spec = datetime.fromtimestamp(time, tz=timezone(timeZone[logIndex][0]))\n",
        "                if spec.month == month:\n",
        "                    store.append(z[variable])\n",
        "        logIndex += 1\n",
        "        extracted.append(store)\n",
        "    return extracted"
      ],
      "execution_count": 0,
      "outputs": []
    },
    {
      "cell_type": "code",
      "metadata": {
        "id": "0HCK4H9hspYF",
        "colab_type": "code",
        "colab": {}
      },
      "source": [
        "def extractBOT(log, variable):\n",
        "    bot = []\n",
        "    jobCount = []\n",
        "\n",
        "    for x in log:\n",
        "        storeSize = 0\n",
        "        store = []\n",
        "        for y in x:\n",
        "            oldTime = 0\n",
        "            botCount = 0\n",
        "            for z in y:\n",
        "                if len(z) != 0:\n",
        "                    time = int(z[variable])\n",
        "                    storeSize += 1\n",
        "\n",
        "                    if oldTime == time:\n",
        "                        botCount += 1\n",
        "                    else:\n",
        "                        if botCount > 0:\n",
        "                            store.append(botCount)\n",
        "                            botCount = 0\n",
        "                        oldTime = time\n",
        "        bot.append(store)\n",
        "        jobCount.append(storeSize)\n",
        "    return bot"
      ],
      "execution_count": 0,
      "outputs": []
    },
    {
      "cell_type": "code",
      "metadata": {
        "id": "1VKg1_NXmPQo",
        "colab_type": "code",
        "colab": {}
      },
      "source": [
        "def extractInterTime(log, variable):\n",
        "    extractedLog = []\n",
        "    jobCount = []\n",
        "\n",
        "    for x in log:\n",
        "        store = []\n",
        "        logIndex = 0\n",
        "        for y in x:\n",
        "            oldTime = 0\n",
        "            for z in y:\n",
        "                if len(z) != 0:\n",
        "                    time = int(z[variable])\n",
        "                    spec = datetime.fromtimestamp(time, tz=timezone(timeZone[logIndex][0]))\n",
        "                    if oldTime != time:\n",
        "                        store.append(time - oldTime)\n",
        "                        oldCalc = time - oldTime\n",
        "                        oldTime = time\n",
        "        extractedLog.append(store)\n",
        "        logIndex +=1\n",
        "    return extractedLog"
      ],
      "execution_count": 0,
      "outputs": []
    },
    {
      "cell_type": "code",
      "metadata": {
        "id": "uLjoH_Zf9Lif",
        "colab_type": "code",
        "colab": {}
      },
      "source": [
        "# This function will extract the interarrival time, and place into hourly intervals\n",
        "# For example\n",
        "\n",
        "def extractHourlyInterTime(log, variable):\n",
        "    extractedLog = []\n",
        "    jobCount = []\n",
        "\n",
        "    for x in log:\n",
        "        store = [[] for x in range(24)]\n",
        "        logIndex = 0\n",
        "        for y in x:\n",
        "            oldTime = 0\n",
        "            for z in y:\n",
        "                if len(z) != 0:\n",
        "                    time = int(z[variable])\n",
        "                    spec = datetime.fromtimestamp(time, tz=timezone(timeZone[logIndex][0]))\n",
        "                    if oldTime != time:\n",
        "                        store[spec.hour].append(time - oldTime)\n",
        "                        oldCalc = time - oldTime\n",
        "                        oldTime = time\n",
        "        extractedLog.append(store)\n",
        "        logIndex +=1\n",
        "    return extractedLog"
      ],
      "execution_count": 0,
      "outputs": []
    },
    {
      "cell_type": "code",
      "metadata": {
        "id": "VdGgloQ9uQtq",
        "colab_type": "code",
        "colab": {}
      },
      "source": [
        "def extractReqRuntime(log):\n",
        "  extracted = []\n",
        "  logIndex = 0\n",
        "  for x in log:\n",
        "    store = []\n",
        "    for y in x:\n",
        "      for z in y:\n",
        "        calc = round(((int(z[3]) - int(z[8]))/int(z[8]))*100)\n",
        "        store.append(calc)\n",
        "    logIndex += 1\n",
        "    extracted.append(store)\n",
        "  return extracted"
      ],
      "execution_count": 0,
      "outputs": []
    },
    {
      "cell_type": "code",
      "metadata": {
        "id": "AOM6x8QAqnVG",
        "colab_type": "code",
        "colab": {}
      },
      "source": [
        "def is_power_of_two(n):\n",
        "    if n == 1:\n",
        "        return False\n",
        "    return (n != 0) and (n & (n-1) == 0)"
      ],
      "execution_count": 0,
      "outputs": []
    },
    {
      "cell_type": "code",
      "metadata": {
        "id": "kTCOUPgA2sqe",
        "colab_type": "code",
        "colab": {}
      },
      "source": [
        "name = ['RICC','METACENTRUM','PIK-IPLEX','HPC2N']"
      ],
      "execution_count": 0,
      "outputs": []
    },
    {
      "cell_type": "code",
      "metadata": {
        "id": "F5ksVzR2s2Sk",
        "colab_type": "code",
        "colab": {}
      },
      "source": [
        "import warnings\n",
        "warnings.filterwarnings(\"ignore\", category=RuntimeWarning)"
      ],
      "execution_count": 0,
      "outputs": []
    },
    {
      "cell_type": "code",
      "metadata": {
        "id": "wrAB961vN2df",
        "colab_type": "code",
        "colab": {}
      },
      "source": [
        "jobArrival = extractArrivalTime(allLogs, 1)\n",
        "jobRuntime = extractMultiLog(allLogs, 8)"
      ],
      "execution_count": 0,
      "outputs": []
    },
    {
      "cell_type": "code",
      "metadata": {
        "id": "2JMoSMV867S_",
        "colab_type": "code",
        "outputId": "71ef39b3-30de-46e2-9498-6d752d4e9e53",
        "colab": {
          "base_uri": "https://localhost:8080/",
          "height": 34
        }
      },
      "source": [
        "# Getting points for arrival rate\n",
        "\n",
        "index = 3\n",
        "cnt = Counter(jobArrival[index])\n",
        "pts = {k: v//diff[index] for k,v in cnt.items()}\n",
        "pts = [k for k,v in pts.items() for x in range(v)]\n",
        "print(np.size(pts))\n",
        "pts = np.array(pts)\n"
      ],
      "execution_count": 0,
      "outputs": [
        {
          "output_type": "stream",
          "text": [
            "147\n"
          ],
          "name": "stdout"
        }
      ]
    },
    {
      "cell_type": "code",
      "metadata": {
        "id": "Bf7DLY4nO7Zs",
        "colab_type": "code",
        "outputId": "d0fcd89c-cdd8-44a8-ac15-580e8b06c2d5",
        "colab": {
          "base_uri": "https://localhost:8080/",
          "height": 231
        }
      },
      "source": [
        "# Getting points for runtime\n",
        "\n",
        "index = 1\n",
        "cnt = Counter(jobRunTime[index])\n",
        "print(cnt)\n",
        "cnt50 = {k:v for k,v in cnt.items() if k < 50000}\n",
        "cnt50d = [k for k,v in cnt50.items() for x in range(v)]\n",
        "pts = np.array(cnt50d)\n"
      ],
      "execution_count": 0,
      "outputs": [
        {
          "output_type": "error",
          "ename": "NameError",
          "evalue": "ignored",
          "traceback": [
            "\u001b[0;31m---------------------------------------------------------------------------\u001b[0m",
            "\u001b[0;31mNameError\u001b[0m                                 Traceback (most recent call last)",
            "\u001b[0;32m<ipython-input-57-cfedff43845d>\u001b[0m in \u001b[0;36m<module>\u001b[0;34m()\u001b[0m\n\u001b[1;32m      2\u001b[0m \u001b[0;34m\u001b[0m\u001b[0m\n\u001b[1;32m      3\u001b[0m \u001b[0mindex\u001b[0m \u001b[0;34m=\u001b[0m \u001b[0;36m1\u001b[0m\u001b[0;34m\u001b[0m\u001b[0;34m\u001b[0m\u001b[0m\n\u001b[0;32m----> 4\u001b[0;31m \u001b[0mcnt\u001b[0m \u001b[0;34m=\u001b[0m \u001b[0mCounter\u001b[0m\u001b[0;34m(\u001b[0m\u001b[0mjobRunTime\u001b[0m\u001b[0;34m[\u001b[0m\u001b[0mindex\u001b[0m\u001b[0;34m]\u001b[0m\u001b[0;34m)\u001b[0m\u001b[0;34m\u001b[0m\u001b[0;34m\u001b[0m\u001b[0m\n\u001b[0m\u001b[1;32m      5\u001b[0m \u001b[0mprint\u001b[0m\u001b[0;34m(\u001b[0m\u001b[0mcnt\u001b[0m\u001b[0;34m)\u001b[0m\u001b[0;34m\u001b[0m\u001b[0;34m\u001b[0m\u001b[0m\n\u001b[1;32m      6\u001b[0m \u001b[0mcnt50\u001b[0m \u001b[0;34m=\u001b[0m \u001b[0;34m{\u001b[0m\u001b[0mk\u001b[0m\u001b[0;34m:\u001b[0m\u001b[0mv\u001b[0m \u001b[0;32mfor\u001b[0m \u001b[0mk\u001b[0m\u001b[0;34m,\u001b[0m\u001b[0mv\u001b[0m \u001b[0;32min\u001b[0m \u001b[0mcnt\u001b[0m\u001b[0;34m.\u001b[0m\u001b[0mitems\u001b[0m\u001b[0;34m(\u001b[0m\u001b[0;34m)\u001b[0m \u001b[0;32mif\u001b[0m \u001b[0mk\u001b[0m \u001b[0;34m<\u001b[0m \u001b[0;36m50000\u001b[0m\u001b[0;34m}\u001b[0m\u001b[0;34m\u001b[0m\u001b[0;34m\u001b[0m\u001b[0m\n",
            "\u001b[0;31mNameError\u001b[0m: name 'jobRunTime' is not defined"
          ]
        }
      ]
    },
    {
      "cell_type": "code",
      "metadata": {
        "id": "4sDt5CEyt1x4",
        "colab_type": "code",
        "outputId": "2c2c499d-96ab-49dc-b06c-884944019309",
        "colab": {
          "base_uri": "https://localhost:8080/",
          "height": 54
        }
      },
      "source": [
        "# Getting points for requested runtime\n",
        "\n",
        "index = 1\n",
        "reqRuntime = extractReqRuntime(allLogs)\n",
        "cnt = Counter(reqRuntime[index])\n",
        "print(cnt)\n",
        "\n",
        "# pts = np.array(cnt50d)"
      ],
      "execution_count": 0,
      "outputs": [
        {
          "output_type": "stream",
          "text": [
            "Counter({-100: 32724, 0: 9841, -99: 8512, -1: 6815, -2: 6390, -3: 6152, -98: 5768, -97: 4768, -8: 3867, -7: 3556, -30: 3383, -96: 2879, -31: 2474, -95: 2436, -9: 2421, -21: 2382, -20: 2265, -90: 2125, -94: 2106, -93: 2098, -29: 2056, -32: 1972, -80: 1968, -92: 1834, -16: 1743, -36: 1733, -4: 1582, -35: 1553, -91: 1491, -37: 1463, -22: 1444, 1: 1422, -88: 1416, -28: 1379, -89: 1341, 2: 1268, -33: 1212, -54: 1209, -34: 1191, -17: 1190, -52: 1148, -78: 1144, -83: 1140, -87: 1138, -39: 1125, -85: 1111, -15: 1105, -86: 1101, -42: 1084, -18: 1066, -79: 1058, -82: 1056, -76: 1051, -70: 1048, -66: 1020, -84: 1019, -24: 1013, -19: 1003, -10: 1000, -14: 961, -53: 958, -77: 948, -23: 937, -43: 916, -38: 913, -71: 901, -13: 900, -5: 883, -49: 883, -57: 873, -58: 871, -6: 860, -62: 842, -73: 833, -75: 804, -40: 797, -67: 793, -74: 790, -56: 788, -69: 782, -72: 780, -41: 777, -12: 762, -11: 741, -45: 740, -50: 739, -59: 733, -60: 730, -81: 724, -27: 710, -48: 708, -65: 702, -44: 699, -25: 673, -63: 658, -68: 654, -55: 631, -46: 616, 3: 603, -64: 597, -47: 590, -51: 520, -26: 519, 4: 482, -61: 456, 5: 393, 6: 301, 103: 286, 7: 166, 36: 154, 510: 123, 8: 112, 22: 112, 10: 108, 9: 72, 20: 67, 12: 66, 18: 66, 205: 66, 17: 64, 11: 62, 13: 56, 52: 54, 16: 48, 144: 46, 30: 45, 19: 43, 57: 42, 15: 41, 21: 41, 14: 41, 25: 40, 24: 39, 23: 36, 28: 31, 40: 29, 26: 28, 110: 28, 42: 27, 1120: 27, 27: 26, 37: 26, 33: 26, 32: 26, 307: 26, 38: 25, 107: 22, 102: 21, 29: 20, 100: 19, 50: 18, 35: 18, 62: 18, 48: 18, 43: 17, 63: 17, 113: 17, 31: 17, 47: 17, 55: 16, 34: 15, 60: 15, 70: 15, 90: 15, 200: 14, 39: 14, 53: 14, 120: 14, 180: 13, 56: 12, 44: 11, 82: 11, 61: 11, 68: 11, 80: 11, 160: 11, 45: 11, 127: 10, 300: 10, 95: 10, 105: 10, 41: 9, 58: 9, 51: 9, 65: 8, 46: 8, 67: 8, 140: 8, 92: 8, 88: 8, 117: 7, 450: 7, 97: 7, 115: 7, 170: 7, 66: 7, 72: 7, 85: 7, 54: 7, 150: 7, 75: 7, 133: 7, 303: 7, 400: 6, 108: 6, 87: 6, 112: 6, 73: 6, 142: 6, 310: 6, 77: 6, 153: 6, 98: 6, 183: 6, 500: 5, 59: 5, 137: 5, 128: 5, 78: 5, 280: 4, 350: 4, 550: 4, 130: 4, 71: 4, 123: 4, 177: 4, 118: 4, 83: 4, 84: 4, 420: 4, 333: 4, 403: 4, 136: 4, 1000: 3, 250: 3, 163: 3, 109: 3, 168: 3, 187: 3, 267: 3, 227: 3, 69: 3, 143: 3, 157: 3, 220: 3, 79: 3, 290: 3, 217: 3, 260: 3, 210: 3, 173: 3, 360: 3, 193: 3, 104: 3, 106: 3, 202: 3, 206: 3, 700: 2, 900: 2, 175: 2, 155: 2, 7865: 2, 91: 2, 2130: 2, 126: 2, 207: 2, 86: 2, 203: 2, 93: 2, 147: 2, 101: 2, 240: 2, 380: 2, 138: 2, 145: 2, 273: 2, 650: 2, 1010: 2, 460: 2, 237: 2, 480: 2, 122: 2, 197: 2, 146: 2, 148: 2, 174: 2, 171: 2, 222: 2, 182: 2, 76: 2, 99: 2, 262: 2, 805: 2, 119: 2, 1530: 2, 64: 2, 269: 2, 954: 1, 121: 1, 3700: 1, 600: 1, 6100: 1, 9200: 1, 6150: 1, 377: 1, 461: 1, 757: 1, 925: 1, 1231: 1, 264: 1, 285: 1, 1299: 1, 1593: 1, 1571: 1, 1032: 1, 278: 1, 1392: 1, 185: 1, 261: 1, 640: 1, 172: 1, 132: 1, 660: 1, 257: 1, 233: 1, 530: 1, 620: 1, 750: 1, 410: 1, 860: 1, 820: 1, 230: 1, 243: 1, 297: 1, 287: 1, 340: 1, 247: 1, 213: 1, 980: 1, 680: 1, 320: 1, 327: 1, 259: 1, 212: 1, 159: 1, 218: 1, 125: 1, 352: 1, 1710: 1, 967: 1, 989: 1, 96: 1, 3431: 1, 702: 1, 2018: 1, 390: 1, 162: 1, 317: 1, 713: 1, 493: 1, 587: 1, 687: 1, 1499: 1, 1362: 1, 907: 1, 844: 1, 758: 1, 720: 1, 1460: 1, 1200: 1, 74: 1, 135: 1, 825: 1, 321: 1, 1769: 1, 238: 1, 156: 1, 129: 1, 309: 1, 7153: 1, 7154: 1, 628: 1, 1503: 1, 3164: 1, 652: 1, 28267: 1, 281: 1, 560: 1, 151: 1, 582: 1, 1476: 1, 10170: 1, 548: 1, 211: 1, 1363: 1, 232: 1, 4150: 1, 4704: 1, 81: 1, 3116: 1, 1071: 1, 270: 1, 388: 1, 815: 1, 236: 1, 226: 1, 304: 1, 362: 1, 541: 1, 3047: 1, 3741: 1, 402: 1, 342: 1, 38804: 1, 124: 1, 181: 1, 271: 1, 49: 1, 188: 1, 345: 1, 277: 1, 505: 1, 928: 1, 578: 1, 730: 1, 637: 1, 1103: 1, 419: 1, 376: 1, 744: 1, 179: 1, 1043: 1, 1556: 1, 446: 1, 1933: 1, 423: 1, 190: 1, 1100: 1, 225: 1})\n"
          ],
          "name": "stdout"
        }
      ]
    },
    {
      "cell_type": "code",
      "metadata": {
        "id": "V2Mf3Pl4s20h",
        "colab_type": "code",
        "outputId": "5126b8ef-bf2a-4225-da78-d642b172e6d7",
        "colab": {
          "base_uri": "https://localhost:8080/",
          "height": 34
        }
      },
      "source": [
        "# Getting points for BOT\n",
        "index = 3\n",
        "jobBOT = extractBOT(allLogs, 1)\n",
        "print(Counter(jobBOT[index]))\n",
        "reduce = [x for x in jobBOT[index] if x < 21]\n",
        "pts = np.array(reduce)"
      ],
      "execution_count": 0,
      "outputs": [
        {
          "output_type": "stream",
          "text": [
            "Counter({1: 7055, 2: 2303, 3: 1793, 4: 581, 5: 350, 6: 263, 9: 152, 7: 149, 8: 115, 10: 64, 11: 62, 13: 45, 12: 44, 14: 33, 15: 18, 16: 6, 19: 6, 17: 6, 18: 4, 20: 2, 22: 2, 26: 1, 24: 1, 21: 1})\n"
          ],
          "name": "stdout"
        }
      ]
    },
    {
      "cell_type": "code",
      "metadata": {
        "id": "gQhY6JEwmHfl",
        "colab_type": "code",
        "colab": {}
      },
      "source": [
        "# Getting points for Inter-arrival Time\n",
        "index = 3\n",
        "jobInter = extractInterTime(allLogs, 1)\n",
        "reduce = [x for x in jobInter[index] if x < 10000]\n",
        "pts = np.array(reduce)\n"
      ],
      "execution_count": 0,
      "outputs": []
    },
    {
      "cell_type": "code",
      "metadata": {
        "id": "ePjJuzdO2PdT",
        "colab_type": "code",
        "outputId": "9a5142ac-4d6f-4786-fe0d-9e2eaf6597e2",
        "colab": {
          "base_uri": "https://localhost:8080/",
          "height": 187
        }
      },
      "source": [
        "#Inter-arrival Time hourly\n",
        "index = 0\n",
        "jobInter = extractHourlyInterTime(allLogs[0], 1)\n",
        "print(jobInter)"
      ],
      "execution_count": 0,
      "outputs": [
        {
          "output_type": "stream",
          "text": [
            "IOPub data rate exceeded.\n",
            "The notebook server will temporarily stop sending output\n",
            "to the client in order to avoid crashing it.\n",
            "To change this limit, set the config variable\n",
            "`--NotebookApp.iopub_data_rate_limit`.\n",
            "\n",
            "Current values:\n",
            "NotebookApp.iopub_data_rate_limit=1000000.0 (bytes/sec)\n",
            "NotebookApp.rate_limit_window=3.0 (secs)\n",
            "\n"
          ],
          "name": "stderr"
        }
      ]
    },
    {
      "cell_type": "code",
      "metadata": {
        "id": "VIlSUF8kVq7-",
        "colab_type": "code",
        "outputId": "1a785790-555f-406b-d274-443424da82ba",
        "colab": {
          "base_uri": "https://localhost:8080/",
          "height": 54
        }
      },
      "source": [
        "# Gettings points for Job Size (power of two)\n",
        "import math\n",
        "\n",
        "index =3\n",
        "jobSize = extractMultiLog(allLogs, 4)\n",
        "#transformLog = [(math.log(x)/math.log(2)) for x in jobSize[index] if x > 1]\n",
        "transformLog = [x for x in jobSize[index] if is_power_of_two(x)== False and x != 1]\n",
        "cnt = Counter(transformLog)\n",
        "#cnt = {int(k):v for k,v in cnt.items() if k % 1 == 0.0}\n",
        "#cnt = {int(k):v for k,v in cnt.items() if k < 200}\n",
        "print(cnt)\n",
        "pts = transformLog#[k for k,v in cnt.items() for x in range(v)]\n"
      ],
      "execution_count": 0,
      "outputs": [
        {
          "output_type": "stream",
          "text": [
            "Counter({6: 3395, 10: 2464, 36: 1924, 12: 1868, 24: 1613, 20: 1531, 18: 727, 40: 408, 9: 301, 25: 251, 50: 219, 3: 155, 30: 154, 28: 148, 5: 141, 14: 139, 7: 137, 48: 131, 72: 120, 60: 115, 98: 86, 49: 55, 100: 43, 22: 39, 26: 38, 42: 36, 120: 22, 84: 22, 96: 15, 80: 13, 54: 12, 11: 10, 62: 9, 15: 6, 81: 4, 23: 4, 13: 4, 58: 4, 44: 4, 140: 3, 56: 3, 52: 1, 190: 1, 200: 1, 70: 1, 90: 1, 38: 1, 110: 1, 31: 1})\n"
          ],
          "name": "stdout"
        }
      ]
    },
    {
      "cell_type": "code",
      "metadata": {
        "id": "q4o8J8fom23F",
        "colab_type": "code",
        "outputId": "9589ac37-a7a0-4780-a52c-b01bf188de1e",
        "colab": {
          "base_uri": "https://localhost:8080/",
          "height": 71
        }
      },
      "source": [
        "# Getting points for Job Memory \n",
        "index = 0\n",
        "variable = 9\n",
        "#if index == 0:\n",
        "#  variable = 9\n",
        "jobMem = extractMultiLog(allLogs, variable)\n",
        "cnt = [round(x/1000) for x in jobMem[index] if x > 0]\n",
        "cnt = Counter(cnt)\n",
        "pts = [k for k,v in cnt.items() for x in range(v)]\n",
        "print(cnt)\n",
        "pts = np.array(pts)\n",
        "print(pts)"
      ],
      "execution_count": 0,
      "outputs": [
        {
          "output_type": "stream",
          "text": [
            "Counter({131: 64690, 262: 5492, 524: 3965, 1049: 419, 2097: 218, 16: 186, 33: 174, 2048: 166, 1024: 142, 1: 118, 66: 80, 205: 67, 1023: 34, 2: 31, 1573: 29, 614: 28, 102: 21, 1843: 17, 819: 13, 573: 12, 171: 11, 676: 9, 307: 7, 1536: 4, 717: 3, 283: 2, 348: 2, 1434: 2, 983: 1, 129: 1})\n",
            "[ 131  131  131 ... 1843 1843  129]\n"
          ],
          "name": "stdout"
        }
      ]
    },
    {
      "cell_type": "code",
      "metadata": {
        "id": "xe9HW-hefavM",
        "colab_type": "code",
        "outputId": "a08dfd84-d55c-40df-b191-e73b4822d2c9",
        "colab": {
          "base_uri": "https://localhost:8080/",
          "height": 385
        }
      },
      "source": [
        "num_bins = 100\n",
        "size = max(pts)\n",
        "\n",
        "# density=True,\n",
        "count, bins, ignored = plt.hist(pts, num_bins, density=True,\n",
        "                                edgecolor='k')\n",
        "plt.title(files[index], fontsize=20)\n",
        "plt.xlabel(r'Inter-arrival Time')\n",
        "plt.ylabel(r'Percent of jobs')\n",
        "#dist_names = [ 'expon', 'exponweib', 'gamma', 'gengamma','invgamma','invweibull','logistic', 'loggamma', 'lognorm', 'lomax', 'maxwell', 'norm', 'powerlognorm', 'powernorm']\n",
        "dist_names = ['alpha', 'anglit', 'arcsine', 'beta', 'betaprime', 'bradford', 'burr', 'chi', 'chi2', 'cosine', 'dgamma', 'dweibull', 'erlang', 'expon', 'exponweib', 'exponpow', 'f', 'fatiguelife', 'fisk', 'foldcauchy', 'foldnorm', 'genlogistic', 'genpareto', 'genexpon', 'genextreme', 'gausshyper', 'gamma', 'gengamma', 'genhalflogistic', 'gilbrat', 'gompertz', 'gumbel_r', 'gumbel_l', 'halfcauchy', 'halflogistic', 'halfnorm', 'hypsecant', 'invgamma', 'invgauss', 'invweibull', 'johnsonsb', 'johnsonsu', 'ksone', 'kstwobign', 'laplace', 'logistic', 'loggamma', 'loglaplace', 'lognorm', 'lomax', 'maxwell', 'mielke', 'nakagami', 'ncx2', 'norm', 'pareto', 'pearson3', 'powerlaw', 'powerlognorm', 'powernorm', 'rdist', 'reciprocal', 'rayleigh', 'rice', 'recipinvgauss', 'semicircular', 't', 'triang', 'truncexpon', 'truncnorm', 'tukeylambda', 'uniform', 'vonmises', 'wald', 'weibull_min', 'weibull_max', 'wrapcauchy']\n",
        "dist_names = ['kstwobign']\n",
        "sseDict = {}\n",
        "best_dist = ''\n",
        "best_sse = 1\n",
        "for dist_name in dist_names:\n",
        "    dist = getattr(scipy.stats, dist_name)\n",
        "    param = dist.fit(pts)\n",
        "    print(dist_name, param)\n",
        "    rX = np.linspace(0,size,num_bins)\n",
        "    rP = dist.pdf(rX, *param)\n",
        "    count = 0\n",
        "    for x in rP:\n",
        "      count += x\n",
        "\n",
        "    print(count)\n",
        "    sse = np.sum(np.power(count - rP, 2.0))\n",
        "    sseDict[dist_name] = sse\n",
        "    plt.plot(rX, rP, label=dist_name)\n",
        "\n",
        "print()\n",
        "sseDict = {key:value for key, value in sorted(sseDict.items(), key=lambda item: item[1])}\n",
        "size = 0\n",
        "best = []\n",
        "\n",
        "for key,value in sseDict.items():\n",
        "  if size < 20:\n",
        "    print(key, value)\n",
        "    best.append(key)\n",
        "  size += 1\n",
        "\n",
        "print(best)"
      ],
      "execution_count": 0,
      "outputs": [
        {
          "output_type": "stream",
          "text": [
            "kstwobign (-1684.9569280427413, 2508.474655750943)\n",
            "0.007820512824148305\n",
            "\n",
            "kstwobign 0.005997470449280156\n",
            "['kstwobign']\n"
          ],
          "name": "stdout"
        },
        {
          "output_type": "display_data",
          "data": {
            "image/png": "[encoded data removed]",
            "text/plain": [
              "<Figure size 432x288 with 1 Axes>"
            ]
          },
          "metadata": {
            "tags": [],
            "needs_background": "light"
          }
        }
      ]
    },
    {
      "cell_type": "code",
      "metadata": {
        "id": "RZtfdmT37WRa",
        "colab_type": "code",
        "colab": {}
      },
      "source": [
        "\n",
        "'''print(best_sse, best_dist)\n",
        "plt.figure()\n",
        "plt.title('RICC ', fontsize=20)\n",
        "plt.xlabel(r'Arrival Rate Hourly')\n",
        "plt.ylabel(r'Percent of jobs')\n",
        "dist = getattr(scipy.stats, best_dist)\n",
        "param = dist.fit(pts)\n",
        "rX = np.linspace(0,24,24)\n",
        "rP = dist.pdf(rX, *param)\n",
        "sse = np.sum(np.power(count - rP, 2.0))\n",
        "plt.hist(pts, num_bins, density=True, edgecolor='k')\n",
        "plt.plot(rX, rP, label=dist_name)\n",
        "'''"
      ],
      "execution_count": 0,
      "outputs": []
    }
  ]
}